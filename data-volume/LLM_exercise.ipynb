{
 "cells": [
  {
   "cell_type": "code",
   "execution_count": null,
   "id": "b4169329-a306-4339-98e9-ac18a25775ab",
   "metadata": {},
   "outputs": [],
   "source": [
    "LLM_exercise."
   ]
  },
  {
   "cell_type": "code",
   "execution_count": null,
   "id": "ad59e7c8-e469-4777-859e-be21787ad59b",
   "metadata": {},
   "outputs": [],
   "source": [
    "# Basic Vocab\n",
    "\n",
    "# Observations/Instances/Samples\n",
    "#   In machine learning, an observation refers to a single instance of data in a dataset.\n",
    "#   Each observation consists of several features and, in supervised learning, a target label.\n",
    "#   A sample is a subset of observations/instances in a data set.\n",
    "# From: https://deepchecks.com/glossary/observation-ml/\n",
    "\n",
    "# Target Label/Variable/Class\n",
    "#   A target is a dataset variable to be predicted by an ML model.\n",
    "#   This is the variable that describes the outcome of the process.\n",
    "#   Broadly speaking, the terms label, class, and target may be used interchangeably.\n",
    "# From https://toloka.ai/blog/machine-learning-labels-and-features/\n",
    "\n",
    "# Supervised vs Unsupervised Learning:\n",
    "#   This notebook is an exercise in supervised learning to leverage an LLM to\n",
    "#   determine if a sentence contains gender bias.\n",
    "# Further reading: https://www.ibm.com/think/topics/supervised-vs-unsupervised-learning\n",
    "\n",
    "# Paper discussing types of gender bias in language: https://arxiv.org/pdf/2201.08675\n",
    "# Datasets originate from:\n",
    "# - locally deployed LLama 3 LLM (~554)\n",
    "# - https://www.kaggle.com/datasets/dgrosz/sexist-workplace-statements (1138)\n",
    "\n",
    "# Pre-processing ideas:\n",
    "# https://arxiv.org/pdf/2111.03612\n",
    "# - Hyphens and hashtags swap for whitespace\n",
    "# - Swap all usernames with string 'username'\n",
    "# - Lowercase it all\n",
    "# - Purge punctuation"
   ]
  },
  {
   "cell_type": "code",
   "execution_count": 3,
   "id": "226412ef-2013-48e1-8767-9117bd2e6bfb",
   "metadata": {},
   "outputs": [
    {
     "name": "stderr",
     "output_type": "stream",
     "text": [
      "/opt/conda/lib/python3.11/site-packages/tqdm/auto.py:21: TqdmWarning: IProgress not found. Please update jupyter and ipywidgets. See https://ipywidgets.readthedocs.io/en/stable/user_install.html\n",
      "  from .autonotebook import tqdm as notebook_tqdm\n"
     ]
    }
   ],
   "source": [
    "# Here, we import required libraries and our raw training data.\n",
    "\n",
    "# Numerical analysis\n",
    "import numpy as np\n",
    "\n",
    "# Data manipulation\n",
    "import pandas as pd\n",
    "import string\n",
    "\n",
    "# Data visualization\n",
    "import matplotlib.pyplot as plt\n",
    "from wordcloud import WordCloud\n",
    "\n",
    "# Hugging Face\n",
    "from datasets import load_from_disk\n",
    "\n",
    "# Open 'aggregate_data.tsv' to inspect the data set.\n",
    "# The columns should be self-explanatory, with the exception of 'label':\n",
    "# - 0 indicates a lack of societal gender bias.\n",
    "# - 1 indicates a presence of societal gender bias.\n",
    "\n",
    "# Import training data. This is for data visualization p\n",
    "# \"df\" is short here for \"data frame\" (https://pandas.pydata.org/pandas-docs/stable/reference/api/pandas.DataFrame.html).\n",
    "df = pd.read_csv(\"aggregate_data.tsv\", sep=\"\\t\")\n",
    "dataset = load_from_disk(\"./dataset\")"
   ]
  },
  {
   "cell_type": "code",
   "execution_count": null,
   "id": "a32f1cfc-5377-4305-9181-8d278277d5d0",
   "metadata": {},
   "outputs": [],
   "source": []
  }
 ],
 "metadata": {
  "kernelspec": {
   "display_name": "Python 3 (ipykernel)",
   "language": "python",
   "name": "python3"
  },
  "language_info": {
   "codemirror_mode": {
    "name": "ipython",
    "version": 3
   },
   "file_extension": ".py",
   "mimetype": "text/x-python",
   "name": "python",
   "nbconvert_exporter": "python",
   "pygments_lexer": "ipython3",
   "version": "3.11.9"
  }
 },
 "nbformat": 4,
 "nbformat_minor": 5
}
