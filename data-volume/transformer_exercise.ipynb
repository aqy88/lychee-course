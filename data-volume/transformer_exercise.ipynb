{
 "cells": [
  {
   "cell_type": "code",
   "execution_count": 1,
   "id": "ad59e7c8-e469-4777-859e-be21787ad59b",
   "metadata": {},
   "outputs": [
    {
     "name": "stdout",
     "output_type": "stream",
     "text": [
      "\n"
     ]
    }
   ],
   "source": [
    "\"\"\"\n",
    "Basic Vocab\n",
    "\n",
    "Observations/Instances/Samples:\n",
    "- In machine learning, an observation refers to a single instance of data in a dataset.\n",
    "- Each observation consists of several features and, in supervised learning, a target label.\n",
    "- A sample is a subset of observations/instances in a data set.\n",
    "From: https://deepchecks.com/glossary/observation-ml/\n",
    "\n",
    "# Target Label/Variable/Class\n",
    "- A target is a dataset variable to be predicted by an ML model.\n",
    "  This is the variable that describes the outcome of the process.\n",
    "  Broadly speaking, the terms label, class, and target may be used interchangeably.\n",
    "From https://toloka.ai/blog/machine-learning-labels-and-features/\n",
    "\n",
    "# Supervised vs Unsupervised Learning:\n",
    "This notebook is an exercise in supervised learning to leverage a pre-trained transformer model to\n",
    "determine if a sentence contains gender bias.\n",
    "Further reading: \n",
    "- https://www.ibm.com/think/topics/supervised-vs-unsupervised-learning\n",
    "- https://blogs.nvidia.com/blog/what-is-a-transformer-model/\n",
    "\n",
    "# Paper discussing types of gender bias in language: https://arxiv.org/pdf/2201.08675\n",
    "Datasets originate from:\n",
    "- locally deployed LLama 3 LLM (~554)\n",
    "- https://www.kaggle.com/datasets/dgrosz/sexist-workplace-statements (1138)\n",
    "\n",
    "DistilBERT Refs\n",
    "- https://huggingface.co/docs/transformers/tasks/sequence_classification\n",
    "\"\"\"\n",
    "print()"
   ]
  },
  {
   "cell_type": "code",
   "execution_count": 2,
   "id": "226412ef-2013-48e1-8767-9117bd2e6bfb",
   "metadata": {},
   "outputs": [],
   "source": [
    "# Import Hugging Face datasets \n",
    "from datasets import load_from_disk, DatasetDict\n",
    "\n",
    "\"\"\"\n",
    "Open 'aggregate_data.tsv' to inspect the data set.\n",
    "The columns should be self-explanatory, with the exception of 'label':\n",
    "- 0 indicates a lack of societal gender bias.\n",
    "- 1 indicates a presence of societal gender bias.\n",
    "\"\"\"\n",
    "dataset = load_from_disk(\"./dataset\")"
   ]
  },
  {
   "cell_type": "code",
   "execution_count": 3,
   "id": "fc06538b-193f-4469-a272-272b73d3ae75",
   "metadata": {},
   "outputs": [
    {
     "data": {
      "text/plain": [
       "{'id': 1,\n",
       " 'sentence': \"Gender diversity in parenting styles enriches children's upbringing.\",\n",
       " 'label': 0}"
      ]
     },
     "execution_count": 3,
     "metadata": {},
     "output_type": "execute_result"
    }
   ],
   "source": [
    "# Inspect indidivual example.\n",
    "dataset[0]"
   ]
  },
  {
   "cell_type": "code",
   "execution_count": 4,
   "id": "989d4f6e-b45c-4bd5-9f6d-e5b706212a5e",
   "metadata": {},
   "outputs": [
    {
     "data": {
      "text/plain": [
       "{'id': 1690,\n",
       " 'sentence': 'Questioning is important for breakthrough innovation that in future companies will have a CXO level Position that leads all the interesting innovation - CQO Chief Questioning Officer.',\n",
       " 'label': 0}"
      ]
     },
     "execution_count": 4,
     "metadata": {},
     "output_type": "execute_result"
    }
   ],
   "source": [
    "# Optional: Add data to the dataset.\n",
    "\n",
    "# To add an item(s):\n",
    "# Define an additional item. You can do this by adding an itemB, itemC, etc.\n",
    "itemA = {'id': 1,\n",
    " 'sentence': \"Some sentence here.\",\n",
    " 'label': 0}\n",
    "\n",
    "# Add it to the dataset. Uncomment the below line to add the sentence.\n",
    "# You can add_item on additional items (e.g. itemB) if created above.\n",
    "# dataset = dataset.add_item(itemA)\n",
    "\n",
    "# Print the last dataset entry (which would have just been added)\n",
    "dataset[-1]"
   ]
  },
  {
   "cell_type": "code",
   "execution_count": 5,
   "id": "10582088-6a3d-4857-9be6-f43729015aab",
   "metadata": {},
   "outputs": [],
   "source": [
    "\"\"\"\n",
    "PRE-PROCESSING (https://arxiv.org/pdf/2111.03612, pg. 3)\n",
    "- Hyphens and hashtags swap for whitespace\n",
    "- Swap all usernames with string 'username'\n",
    "- Lowercase it all\n",
    "- Purge punctuation\n",
    "\n",
    "Note that removing typical NLP stop words would likely trash our accuracy,\n",
    "given the context they would contain.\n",
    "\"\"\"\n",
    "import re\n",
    "import string\n",
    "\n",
    "def preprocess_text(text):\n",
    "    # Replace hyphens with whitespace\n",
    "    text = text.replace('-', ' ')\n",
    "    \n",
    "    # Remove all '#' symbols\n",
    "    text = text.replace('#', '')\n",
    "    \n",
    "    # Replace Twitter usernames (e.g., @username) with the word \"username\"\n",
    "    text = re.sub(r'@\\w+', 'username', text)\n",
    "\n",
    "    # Remove punctuation\n",
    "    text = text.translate(str.maketrans('', '', string.punctuation))\n",
    "    \n",
    "    # Lowercase all words\n",
    "    text = text.lower()\n",
    "    \n",
    "    return text\n",
    "\n",
    "def preprocess_dataset(dataset):\n",
    "    def preprocess_example(example):\n",
    "        example['sentence'] = preprocess_text(example['sentence'])\n",
    "        return example\n",
    "    \n",
    "    return dataset.map(preprocess_example)\n",
    "\n",
    "dataset = dataset.remove_columns(['id'])\n",
    "dataset = preprocess_dataset(dataset)\n"
   ]
  },
  {
   "cell_type": "code",
   "execution_count": 6,
   "id": "61bfbb4c-8a40-4675-ba42-d24d355298b2",
   "metadata": {},
   "outputs": [
    {
     "data": {
      "text/plain": [
       "{'sentence': 'gender diversity in parenting styles enriches childrens upbringing',\n",
       " 'label': 0}"
      ]
     },
     "execution_count": 6,
     "metadata": {},
     "output_type": "execute_result"
    }
   ],
   "source": [
    "# Inspect pre-processed example.\n",
    "dataset[0]"
   ]
  },
  {
   "cell_type": "code",
   "execution_count": 7,
   "id": "985b8f0d-5056-446d-add3-bbf7cf9705e8",
   "metadata": {},
   "outputs": [],
   "source": [
    "# Tokenize dataset. Do not modify this block.\n",
    "\n",
    "from transformers import DataCollatorWithPadding\n",
    "from transformers import AutoTokenizer\n",
    "\n",
    "tokenizer = AutoTokenizer.from_pretrained(\"distilbert/distilbert-base-uncased\")\n",
    "data_collator = DataCollatorWithPadding(tokenizer=tokenizer)\n",
    "\n",
    "def preprocess_function(examples):\n",
    "    return tokenizer(examples[\"sentence\"], truncation=False)\n",
    "\n",
    "tokenized_dataset = dataset.map(preprocess_function, batched=True)"
   ]
  },
  {
   "cell_type": "code",
   "execution_count": 8,
   "id": "6e26a185-e7df-4a25-bcac-4e208b84d7f2",
   "metadata": {},
   "outputs": [],
   "source": [
    "# Load accuracy metric. Do not modify this block.\n",
    "import evaluate\n",
    "import numpy as np\n",
    "\n",
    "accuracy = evaluate.load(\"accuracy\")\n",
    "\n",
    "def compute_metrics(eval_pred):\n",
    "    predictions, labels = eval_pred\n",
    "    predictions = np.argmax(predictions, axis=1)\n",
    "    return accuracy.compute(predictions=predictions, references=labels)"
   ]
  },
  {
   "cell_type": "code",
   "execution_count": 9,
   "id": "9a40dd7b-6233-42fb-b206-91da102a54dd",
   "metadata": {},
   "outputs": [],
   "source": [
    "# Label mappings. Do not modify this block.\n",
    "id2label = {0: \"NEGATIVE\", 1: \"POSITIVE\"}\n",
    "label2id = {\"NEGATIVE\": 0, \"POSITIVE\": 1}"
   ]
  },
  {
   "cell_type": "code",
   "execution_count": 10,
   "id": "2531555e-2a01-4caa-8b6d-3ed0983afa4c",
   "metadata": {},
   "outputs": [
    {
     "name": "stderr",
     "output_type": "stream",
     "text": [
      "Some weights of DistilBertForSequenceClassification were not initialized from the model checkpoint at distilbert/distilbert-base-uncased and are newly initialized: ['classifier.bias', 'classifier.weight', 'pre_classifier.bias', 'pre_classifier.weight']\n",
      "You should probably TRAIN this model on a down-stream task to be able to use it for predictions and inference.\n"
     ]
    }
   ],
   "source": [
    "from transformers import AutoModelForSequenceClassification, TrainingArguments, Trainer\n",
    "\n",
    "\"\"\"\n",
    "Load DistilBERT with AutoModelForSequenceClassification along with the number of expected labels,\n",
    "and the label mappings\n",
    "\"\"\"\n",
    "model = AutoModelForSequenceClassification.from_pretrained(\n",
    "    \"distilbert/distilbert-base-uncased\", num_labels=2, id2label=id2label, label2id=label2id\n",
    ")"
   ]
  },
  {
   "cell_type": "code",
   "execution_count": 11,
   "id": "b09cc4a7-b3bb-4192-905f-e4593faa7bc3",
   "metadata": {},
   "outputs": [],
   "source": [
    "# Split dataset into train and test.\n",
    "def split_dataset(dataset, test_size=0.2, seed=42):\n",
    "    \"\"\"\n",
    "    Split the Hugging Face dataset into training and test sets.\n",
    "\n",
    "    Parameters:\n",
    "    - dataset: Hugging Face dataset obj\n",
    "    - test_size (float): Proportion of the dataset to include in the test split (default is 0.2).\n",
    "    - seed (int): Random seed for reproducibility (default is 42).\n",
    "\n",
    "    Returns:\n",
    "    - DatasetDict: A dictionary with 'train' and 'test' splits.\n",
    "    \"\"\"\n",
    "\n",
    "    # Split the dataset into training and test sets\n",
    "    train_test_split = dataset.train_test_split(test_size=test_size, seed=seed)\n",
    "    \n",
    "    # Return the DatasetDict with 'train' and 'test' splits\n",
    "    return DatasetDict({\n",
    "        'train': train_test_split['train'],\n",
    "        'test': train_test_split['test']\n",
    "    })\n",
    "\n",
    "# Split the dataset\n",
    "dataset_splits = split_dataset(tokenized_dataset)"
   ]
  },
  {
   "cell_type": "code",
   "execution_count": 12,
   "id": "6138da40-f088-48fc-8daf-553d7896d9fe",
   "metadata": {},
   "outputs": [
    {
     "data": {
      "text/html": [
       "\n",
       "    <div>\n",
       "      \n",
       "      <progress value='170' max='170' style='width:300px; height:20px; vertical-align: middle;'></progress>\n",
       "      [170/170 02:15, Epoch 2/2]\n",
       "    </div>\n",
       "    <table border=\"1\" class=\"dataframe\">\n",
       "  <thead>\n",
       " <tr style=\"text-align: left;\">\n",
       "      <th>Epoch</th>\n",
       "      <th>Training Loss</th>\n",
       "      <th>Validation Loss</th>\n",
       "      <th>Accuracy</th>\n",
       "    </tr>\n",
       "  </thead>\n",
       "  <tbody>\n",
       "    <tr>\n",
       "      <td>1</td>\n",
       "      <td>No log</td>\n",
       "      <td>0.220703</td>\n",
       "      <td>0.914454</td>\n",
       "    </tr>\n",
       "    <tr>\n",
       "      <td>2</td>\n",
       "      <td>No log</td>\n",
       "      <td>0.172599</td>\n",
       "      <td>0.946903</td>\n",
       "    </tr>\n",
       "  </tbody>\n",
       "</table><p>"
      ],
      "text/plain": [
       "<IPython.core.display.HTML object>"
      ]
     },
     "metadata": {},
     "output_type": "display_data"
    }
   ],
   "source": [
    "training_args = TrainingArguments(\n",
    "    output_dir=\"model_output_dir\",\n",
    "    learning_rate=2e-5,\n",
    "    per_device_train_batch_size=16,\n",
    "    per_device_eval_batch_size=16,\n",
    "    num_train_epochs=2,\n",
    "    weight_decay=0.01,\n",
    "    eval_strategy=\"epoch\",\n",
    "    save_strategy=\"epoch\",\n",
    "    load_best_model_at_end=True,\n",
    "    push_to_hub=False,\n",
    ")\n",
    "\n",
    "trainer = Trainer(\n",
    "    model=model,\n",
    "    args=training_args,\n",
    "    train_dataset=dataset_splits[\"train\"],\n",
    "    eval_dataset=dataset_splits[\"test\"],\n",
    "    tokenizer=tokenizer,\n",
    "    data_collator=data_collator,\n",
    "    compute_metrics=compute_metrics,\n",
    ")\n",
    "\n",
    "trainer.train()\n",
    "trainer.save_model()"
   ]
  },
  {
   "cell_type": "code",
   "execution_count": 13,
   "id": "32a7c7c2-d676-4292-9987-7ea9e65b30c3",
   "metadata": {},
   "outputs": [
    {
     "data": {
      "text/plain": [
       "[{'label': 'POSITIVE', 'score': 0.9611313343048096}]"
      ]
     },
     "execution_count": 13,
     "metadata": {},
     "output_type": "execute_result"
    }
   ],
   "source": [
    "\"\"\"\n",
    "Inference Time\n",
    "https://huggingface.co/docs/transformers/en/pipeline_tutorial\n",
    "\"\"\"\n",
    "from transformers import DistilBertForSequenceClassification\n",
    "from transformers import pipeline\n",
    "\n",
    "loaded_model = DistilBertForSequenceClassification.from_pretrained(\"model_output_dir\")  # automatically loads the configuration.\n",
    "\n",
    "# sampleText = \"Women belong in the kitchen.\"\n",
    "# sampleText = \"Women and men should earn the same amount.\"\n",
    "# sampleText = \"Women should earn the same amount as men.\"\n",
    "# sampleText = \"Poontang makes dealing with menstruation worth it.\"\n",
    "# sampleText = \"Sex makes dealing with menstruation worth it.\"\n",
    "sampleText = \"You'd be prettier if you smiled.\"\n",
    "# This is not to be hateful, but to demonstrate a flaw in our model.\n",
    "# sampleText = \"Transgender people should not have rights.\"\n",
    "\n",
    "classifier = pipeline(\"sentiment-analysis\", model=loaded_model, tokenizer=tokenizer)\n",
    "\n",
    "preprocess_inference_input = preprocess_text(sampleText)\n",
    "classifier(preprocess_inference_input)"
   ]
  },
  {
   "cell_type": "code",
   "execution_count": 23,
   "id": "65b2fe42-0c03-438a-94c9-1a8bdb593a1b",
   "metadata": {},
   "outputs": [
    {
     "name": "stdout",
     "output_type": "stream",
     "text": [
      "[1, 0, 1, 0, 1, 1, 0, 1, 1, 1, 0, 0, 1, 0, 0, 1, 1, 0, 1, 1, 0, 1, 1, 0, 1, 1, 0, 0, 0, 1, 0, 1, 1, 1, 1, 1, 1, 0, 1, 1, 1, 1, 1, 0, 0, 0, 1, 1, 0, 0, 1, 0, 1, 0, 0, 1, 1, 1, 0, 1, 1, 0, 1, 0, 0, 0, 1, 0, 0, 1, 1, 1, 1, 1, 0, 1, 1, 0, 0, 0, 0, 1, 0, 0, 0, 1, 1, 0, 1, 0, 1, 0, 1, 1, 1, 1, 0, 0, 1, 1, 1, 1, 0, 1, 0, 0, 1, 0, 1, 0, 1, 1, 1, 0, 0, 1, 0, 1, 1, 1, 0, 1, 1, 0, 1, 0, 1, 0, 0, 1, 0, 0, 0, 1, 1, 1, 1, 0, 1, 1, 1, 1, 1, 0, 1, 0, 0, 0, 1, 1, 1, 0, 0, 0, 1, 1, 0, 1, 1, 1, 1, 0, 0, 0, 0, 1, 0, 0, 1, 0, 1, 1, 0, 0, 0, 1, 0, 0, 1, 1, 1, 1, 1, 1, 1, 0, 1, 1, 0, 0, 1, 1, 1, 0, 1, 0, 1, 1, 1, 0, 0, 0, 1, 0, 1, 1, 0, 1, 1, 0, 1, 1, 0, 0, 1, 0, 0, 0, 0, 1, 1, 0, 1, 1, 0, 0, 1, 1, 0, 1, 0, 1, 0, 0, 0, 1, 1, 0, 1, 1, 1, 1, 0, 1, 0, 1, 1, 1, 1, 0, 1, 1, 1, 0, 0, 0, 1, 1, 1, 0, 1, 0, 0, 0, 0, 0, 0, 0, 0, 1, 1, 0, 0, 0, 1, 1, 0, 0, 1, 0, 1, 1, 1, 1, 0, 1, 1, 1, 1, 0, 1, 1, 1, 1, 1, 1, 1, 1, 0, 1, 0, 1, 1, 1, 1, 1, 1, 1, 1, 0, 1, 0, 1, 0, 1, 1, 0, 1, 0, 1, 1, 0, 0, 0, 1, 1, 1, 1, 1, 1, 1, 0, 0, 0, 0, 0, 1, 1, 1]\n"
     ]
    },
    {
     "data": {
      "text/plain": [
       "<Axes: >"
      ]
     },
     "execution_count": 23,
     "metadata": {},
     "output_type": "execute_result"
    },
    {
     "data": {
      "image/png": "[encoded data removed]",
      "text/plain": [
       "<Figure size 640x480 with 2 Axes>"
      ]
     },
     "metadata": {},
     "output_type": "display_data"
    }
   ],
   "source": [
    "# Confusion Matrix\n",
    "from sklearn.metrics import confusion_matrix\n",
    "import seaborn as sns\n",
    "Y_test = list(dataset_splits[\"test\"][\"label\"])\n",
    "Y_predict_test_raw = list(classifier(dataset_splits[\"test\"][\"sentence\"]))\n",
    "\n",
    "# Extract label.\n",
    "def extract_label(n):\n",
    "    if n[\"label\"] == \"POSITIVE\":\n",
    "        return 1\n",
    "    return 0\n",
    "Y_predict_test = list(map(extract_label, Y_predict_test_raw))\n",
    "\n",
    "print(Y_predict_test)\n",
    "cm = confusion_matrix(Y_test, Y_predict_test)\n",
    "sns.heatmap(cm, annot=True)"
   ]
  },
  {
   "cell_type": "code",
   "execution_count": null,
   "id": "672094cf-1bf2-4cf8-9bf3-9f21cab93591",
   "metadata": {},
   "outputs": [],
   "source": []
  }
 ],
 "metadata": {
  "kernelspec": {
   "display_name": "Python 3 (ipykernel)",
   "language": "python",
   "name": "python3"
  },
  "language_info": {
   "codemirror_mode": {
    "name": "ipython",
    "version": 3
   },
   "file_extension": ".py",
   "mimetype": "text/x-python",
   "name": "python",
   "nbconvert_exporter": "python",
   "pygments_lexer": "ipython3",
   "version": "3.11.9"
  }
 },
 "nbformat": 4,
 "nbformat_minor": 5
}
